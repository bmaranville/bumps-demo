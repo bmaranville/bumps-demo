{
  "metadata": {
    "kernelspec": {
      "name": "python",
      "display_name": "Python (Pyodide)",
      "language": "python"
    },
    "language_info": {
      "codemirror_mode": {
        "name": "python",
        "version": 3
      },
      "file_extension": ".py",
      "mimetype": "text/x-python",
      "name": "python",
      "nbconvert_exporter": "python",
      "pygments_lexer": "ipython3",
      "version": "3.8"
    }
  },
  "nbformat_minor": 4,
  "nbformat": 4,
  "cells": [
    {
      "cell_type": "code",
      "source": "import micropip\nawait micropip.install(\"/bumps-demo/bumps-0.9.0-py3-none-any.whl\")\nawait micropip.install(\"ipywidgets\")\nimport numpy as np\nimport scipy\nimport matplotlib as mpl\nimport ipywidgets",
      "metadata": {
        "trusted": true
      },
      "outputs": [],
      "execution_count": null
    },
    {
      "cell_type": "code",
      "source": "from bumps.names import *\n\nx = [1, 2, 3, 4, 5, 6]\ny = [2.1, 4.0, 6.3, 8.03, 9.6, 11.9]\ndy = [0.05, 0.05, 0.2, 0.05, 0.2, 0.2]\n\ndef line(x, m, b=0):\n    return m*x + b\n\nM = Curve(line, x, y, dy, m=2, b=2)\nM.m.range(0, 4)\nM.b.range(-5, 5)\n\nproblem = FitProblem(M)\nproblem.plot()",
      "metadata": {
        "trusted": true
      },
      "outputs": [],
      "execution_count": null
    },
    {
      "cell_type": "code",
      "source": "from bumps import fitters\noptions_dict = {}\n\nfor item in fitters.__dict__.keys():\n    if item.endswith('Fit') and fitters.__dict__[item].id in fitters.FIT_AVAILABLE_IDS:\n        options_dict[fitters.__dict__[item].name] = fitters.__dict__[item].id\n\nw_choice_minimizer = ipywidgets.Dropdown(\n    options=list(options_dict.keys()),\n    value='Levenberg-Marquardt',\n    description='Minimizer:',\n    layout=ipywidgets.Layout(height='40px'))\n\nw_choice_minimizer",
      "metadata": {
        "trusted": true,
        "jupyter": {
          "source_hidden": true
        }
      },
      "outputs": [],
      "execution_count": null
    },
    {
      "cell_type": "code",
      "source": "steps_fitting = ipywidgets.IntText(\n    value=100,\n    step=100,\n    description='Number of steps when fitting',\n    style={'description_width': 'initial'})\n\nsteps_fitting",
      "metadata": {
        "trusted": true,
        "jupyter": {
          "source_hidden": true
        }
      },
      "outputs": [],
      "execution_count": null
    },
    {
      "cell_type": "code",
      "source": "# Preview of the settings\nprint('Initial chisq', problem.chisq_str())",
      "metadata": {
        "trusted": true
      },
      "outputs": [],
      "execution_count": null
    },
    {
      "cell_type": "code",
      "source": "result = fitters.fit(\n    problem,\n    starts=10,\n    keep_best=True,\n    method=options_dict[w_choice_minimizer.value],\n    steps=int(steps_fitting.value)\n)\n\nprint('Final chisq', problem.chisq_str())",
      "metadata": {
        "trusted": true
      },
      "outputs": [],
      "execution_count": null
    },
    {
      "cell_type": "code",
      "source": "print(problem.summarize())",
      "metadata": {
        "trusted": true
      },
      "outputs": [],
      "execution_count": null
    },
    {
      "cell_type": "code",
      "source": "problem.plot()",
      "metadata": {
        "trusted": true
      },
      "outputs": [],
      "execution_count": null
    }
  ]
}